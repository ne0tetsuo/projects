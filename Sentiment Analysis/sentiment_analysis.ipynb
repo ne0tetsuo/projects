{
 "cells": [
  {
   "cell_type": "markdown",
   "id": "d95ada04",
   "metadata": {},
   "source": [
    "# Sentiment Analysis sur les critiques IMDB\n",
    "Ce notebook charge des critiques de films, les nettoie, puis entraîne un modèle simple pour prédire si elles sont positives ou négatives."
   ]
  },
  {
   "cell_type": "markdown",
   "id": "26282bfe",
   "metadata": {},
   "source": [
    "## 1.  Importation des bibliothèques"
   ]
  },
  {
   "cell_type": "code",
   "execution_count": null,
   "id": "00abed5c",
   "metadata": {},
   "outputs": [],
   "source": [
    "import pandas as pd\n",
    "import numpy as np\n",
    "import re\n",
    "import matplotlib.pyplot as plt\n",
    "from sklearn.model_selection import train_test_split\n",
    "from sklearn.feature_extraction.text import TfidfVectorizer\n",
    "from sklearn.linear_model import LogisticRegression\n",
    "from sklearn.metrics import accuracy_score"
   ]
  },
  {
   "cell_type": "markdown",
   "id": "2f95f7f5",
   "metadata": {},
   "source": [
    "## 2. Chargement du jeu de données"
   ]
  },
  {
   "cell_type": "code",
   "execution_count": null,
   "id": "1facfe92",
   "metadata": {},
   "outputs": [],
   "source": [
    "df = pd.read_csv(\"IMDB Dataset.csv\")  # Assure-toi que ce fichier est dans le même dossier\n",
    "df.head()"
   ]
  },
  {
   "cell_type": "markdown",
   "id": "2035c633",
   "metadata": {},
   "source": [
    "## 3. 🔍 Visualisation rapide du dataset"
   ]
  },
  {
   "cell_type": "code",
   "execution_count": null,
   "id": "f775fe19",
   "metadata": {},
   "outputs": [],
   "source": [
    "df['sentiment'].value_counts().plot(kind='bar', title='Répartition des sentiments')"
   ]
  },
  {
   "cell_type": "markdown",
   "id": "c709dd33",
   "metadata": {},
   "source": [
    "## 4. Nettoyage de texte"
   ]
  },
  {
   "cell_type": "code",
   "execution_count": null,
   "id": "39d77a30",
   "metadata": {},
   "outputs": [],
   "source": [
    "def clean_text(text):\n",
    "    text = re.sub(r\"<.*?>\", \"\", text)  # supprimer les balises HTML\n",
    "    text = re.sub(r\"[^a-zA-Z]\", \" \", text)  # conserver uniquement les lettres\n",
    "    text = text.lower()\n",
    "    return text\n",
    "\n",
    "df['cleaned_review'] = df['review'].apply(clean_text)"
   ]
  },
  {
   "cell_type": "markdown",
   "id": "3fb55552",
   "metadata": {},
   "source": [
    "## 5. ✂️ Séparation en données d'entraînement et de test"
   ]
  },
  {
   "cell_type": "code",
   "execution_count": null,
   "id": "d451eb04",
   "metadata": {},
   "outputs": [],
   "source": [
    "X = df['cleaned_review']\n",
    "y = df['sentiment'].map({'positive': 1, 'negative': 0})  # encoder les labels\n",
    "X_train, X_test, y_train, y_test = train_test_split(X, y, test_size=0.2, random_state=42)"
   ]
  },
  {
   "cell_type": "markdown",
   "id": "f561f9fd",
   "metadata": {},
   "source": [
    "## 6.  Transformation TF-IDF"
   ]
  },
  {
   "cell_type": "code",
   "execution_count": null,
   "id": "d318bb96",
   "metadata": {},
   "outputs": [],
   "source": [
    "vectorizer = TfidfVectorizer(max_features=5000)\n",
    "X_train_tfidf = vectorizer.fit_transform(X_train)\n",
    "X_test_tfidf = vectorizer.transform(X_test)"
   ]
  },
  {
   "cell_type": "markdown",
   "id": "16e82d39",
   "metadata": {},
   "source": [
    "## 7. Entraînement du modèle (Régression Logistique)"
   ]
  },
  {
   "cell_type": "code",
   "execution_count": null,
   "id": "81f64b7b",
   "metadata": {},
   "outputs": [],
   "source": [
    "model = LogisticRegression()\n",
    "model.fit(X_train_tfidf, y_train)\n",
    "y_pred = model.predict(X_test_tfidf)\n",
    "print(\"Accuracy:\", accuracy_score(y_test, y_pred))"
   ]
  },
  {
   "cell_type": "markdown",
   "id": "7c294d84",
   "metadata": {},
   "source": [
    "## Résultat final"
   ]
  },
  {
   "cell_type": "code",
   "execution_count": null,
   "id": "59d0f37d",
   "metadata": {},
   "outputs": [],
   "source": [
    "from sklearn.metrics import classification_report\n",
    "print(classification_report(y_test, y_pred))"
   ]
  }
 ],
 "metadata": {},
 "nbformat": 4,
 "nbformat_minor": 5
}
